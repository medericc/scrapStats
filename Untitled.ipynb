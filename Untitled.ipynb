{
 "cells": [
  {
   "cell_type": "code",
   "execution_count": 18,
   "id": "5bf97970",
   "metadata": {},
   "outputs": [],
   "source": [
    "import requests\n",
    "from bs4 import BeautifulSoup\n",
    "import pandas as pd"
   ]
  },
  {
   "cell_type": "code",
   "execution_count": 19,
   "id": "7f23a749",
   "metadata": {},
   "outputs": [],
   "source": [
    "\n",
    "url = 'https://basketlfb.com/laboulangerewonderligue/match/789983-landerneau-villeneuve-d-ascq'\n"
   ]
  },
  {
   "cell_type": "code",
   "execution_count": 20,
   "id": "e0fa02fd",
   "metadata": {},
   "outputs": [],
   "source": [
    "\n",
    "response = requests.get(url)\n",
    "soup = BeautifulSoup(response.content, 'html.parser')"
   ]
  },
  {
   "cell_type": "code",
   "execution_count": 27,
   "id": "fe57e377",
   "metadata": {},
   "outputs": [],
   "source": [
    "def get_player_stats(team):\n",
    "    stats = []\n",
    "    players = team.find_all('tr')[1:-1]  #pas autre que stats ( tr .; )\n",
    "    for player in players:\n",
    "        data = player.find_all('td')\n",
    "        if len(data) > 2: #checker si y a des trucs\n",
    "            player_stats = {\n",
    "                'Numéro': data[0].text.strip(),\n",
    "                'Nom': data[1].text.strip(),\n",
    "                'Minutes': data[2].text.strip() if len(data) > 3 else 'N/A',\n",
    "                'Points': data[3].text.strip() if len(data) > 4 else 'N/A',\n",
    "                '2pts': data[4].text.strip() if len(data) > 5 else 'N/A',\n",
    "                '3pts': data[5].text.strip() if len(data) > 6 else 'N/A',\n",
    "                'Pourcentage de tirs': data[6].text.strip() if len(data) > 7 else 'N/A',\n",
    "                'Lancers francs': data[7].text.strip() if len(data) > 8 else 'N/A',\n",
    "                'Pourcentage LF': data[8].text.strip() if len(data) > 9 else 'N/A',\n",
    "                'Rebonds offensifs': data[9].text.strip() if len(data) > 10 else 'N/A',\n",
    "                'Rebonds défensifs': data[10].text.strip() if len(data) > 11 else 'N/A',\n",
    "                'Total rebonds': data[11].text.strip() if len(data) > 12 else 'N/A',\n",
    "                'Passes décisives': data[12].text.strip() if len(data) > 13 else 'N/A',\n",
    "                'Interceptions': data[13].text.strip() if len(data) > 14 else 'N/A',\n",
    "                'Ballons perdus': data[14].text.strip() if len(data) > 15 else 'N/A',\n",
    "                'Contres': data[15].text.strip() if len(data) > 16 else 'N/A',\n",
    "                'Fautes': data[16].text.strip() if len(data) > 17 else 'N/A',\n",
    "                'Évaluation': data[19].text.strip() if len(data) > 20 else 'N/A'  # Ajout de la condition pour éviter l'erreur\n",
    "            }\n",
    "            stats.append(player_stats)\n",
    "    return stats"
   ]
  },
  {
   "cell_type": "code",
   "execution_count": 28,
   "id": "adcc1458",
   "metadata": {},
   "outputs": [],
   "source": [
    "teams = soup.find_all('table', class_='table')\n",
    "lyon_stats = get_player_stats(teams[0])\n",
    "roche_vendee_stats = get_player_stats(teams[1])\n",
    "\n",
    "df_lyon = pd.DataFrame(lyon_stats)\n",
    "df_roche_vendee = pd.DataFrame(roche_vendee_stats)"
   ]
  },
  {
   "cell_type": "code",
   "execution_count": 29,
   "id": "5249ecc4",
   "metadata": {},
   "outputs": [
    {
     "name": "stdout",
     "output_type": "stream",
     "text": [
      "Statistiques de Lyon (PTS+AST ajoutée) :\n",
      "                   Nom  PTS+AST\n",
      "0      Evelyn Akhator       24\n",
      "1      Maud Stervinou       24\n",
      "2         Angel Baker       24\n",
      "3     Nausia Woolfolk       15\n",
      "4  Daniela Dibanzilua       11\n",
      "5    Prescillia Lezin        8\n",
      "6    Awa Geanne Trasi        6\n",
      "7           Adja Kane        5\n",
      "8        Laura Evrard        0\n",
      "9                            0\n",
      "\n",
      "Statistiques de Roche Vendée (PTS+AST ajoutée) :\n",
      "                     Nom  PTS+AST\n",
      "0           Carla Leite       37\n",
      "1  Marie Paule Foppossi       13\n",
      "2           Kelsey Bone       10\n",
      "3           Maia Hirsch       10\n",
      "4      Shavonte Zellous        9\n",
      "5          Iva Slonjsak       11\n",
      "6         Aminata Gueye        6\n",
      "7                              0\n"
     ]
    }
   ],
   "source": [
    "\n",
    "df_lyon['Points'] = pd.to_numeric(df_lyon['Points'], errors='coerce').fillna(0).astype(int)\n",
    "df_lyon['Passes décisives'] = pd.to_numeric(df_lyon['Passes décisives'], errors='coerce').fillna(0).astype(int)\n",
    "\n",
    "df_roche_vendee['Points'] = pd.to_numeric(df_roche_vendee['Points'], errors='coerce').fillna(0).astype(int)\n",
    "df_roche_vendee['Passes décisives'] = pd.to_numeric(df_roche_vendee['Passes décisives'], errors='coerce').fillna(0).astype(int)\n",
    "\n",
    "# Ajout de la colonne PTS+AST \n",
    "df_lyon['PTS+AST'] = df_lyon['Points'] + df_lyon['Passes décisives']\n",
    "df_roche_vendee['PTS+AST'] = df_roche_vendee['Points'] + df_roche_vendee['Passes décisives']\n",
    "\n",
    "# Afficher les DataFrames\n",
    "print(\"Statistiques de Lyon (PTS+AST ajoutée) :\\n\", df_lyon[['Nom', 'PTS+AST']])\n",
    "print(\"\\nStatistiques de Roche Vendée (PTS+AST ajoutée) :\\n\", df_roche_vendee[['Nom', 'PTS+AST']])\n"
   ]
  },
  {
   "cell_type": "code",
   "execution_count": null,
   "id": "a9036a92",
   "metadata": {},
   "outputs": [],
   "source": []
  }
 ],
 "metadata": {
  "kernelspec": {
   "display_name": "Python 3 (ipykernel)",
   "language": "python",
   "name": "python3"
  },
  "language_info": {
   "codemirror_mode": {
    "name": "ipython",
    "version": 3
   },
   "file_extension": ".py",
   "mimetype": "text/x-python",
   "name": "python",
   "nbconvert_exporter": "python",
   "pygments_lexer": "ipython3",
   "version": "3.11.5"
  }
 },
 "nbformat": 4,
 "nbformat_minor": 5
}
